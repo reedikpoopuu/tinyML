{
  "nbformat": 4,
  "nbformat_minor": 0,
  "metadata": {
    "colab": {
      "provenance": [],
      "gpuType": "T4",
      "authorship_tag": "ABX9TyOarzDgxf6nwFq9XWgU5JK0",
      "include_colab_link": true
    },
    "kernelspec": {
      "name": "python3",
      "display_name": "Python 3"
    },
    "language_info": {
      "name": "python"
    },
    "accelerator": "GPU"
  },
  "cells": [
    {
      "cell_type": "markdown",
      "metadata": {
        "id": "view-in-github",
        "colab_type": "text"
      },
      "source": [
        "<a href=\"https://colab.research.google.com/github/reedikpoopuu/tinyML/blob/main/FirstAssignment.ipynb\" target=\"_parent\"><img src=\"https://colab.research.google.com/assets/colab-badge.svg\" alt=\"Open In Colab\"/></a>"
      ]
    },
    {
      "cell_type": "code",
      "execution_count": 2,
      "metadata": {
        "id": "nq75_csxpiW_"
      },
      "outputs": [],
      "source": [
        "# First, we import the necessary libraries\n",
        "import sys\n",
        "\n",
        "import numpy as np\n",
        "import tensorflow as tf\n",
        "import matplotlib.pyplot as plt\n",
        "from tensorflow.keras import Sequential\n",
        "from tensorflow.keras.layers import Dense"
      ]
    },
    {
      "cell_type": "code",
      "source": [
        "# This script requires TensorFlow 2 and Python 3.\n",
        "if tf.__version__.split('.')[0] != '2':\n",
        "    raise Exception((f\"The script is developed and tested for tensorflow 2. \"\n",
        "                     f\"Current version: {tf.__version__}\"))\n",
        "\n",
        "if sys.version_info.major < 3:\n",
        "    raise Exception((f\"The script is developed and tested for Python 3. \"\n",
        "                     f\"Current version: {sys.version_info.major}\"))"
      ],
      "metadata": {
        "id": "BeWEedgqqRX4"
      },
      "execution_count": 3,
      "outputs": []
    },
    {
      "cell_type": "code",
      "source": [
        "# We then set up some functions and local variables\n",
        "predictions = []\n",
        "class myCallback(tf.keras.callbacks.Callback):\n",
        "  def on_epoch_end(self, epoch, logs={}):\n",
        "    predictions.append(model.predict(xs))\n",
        "callbacks = myCallback()\n",
        "\n",
        "# We then define the xs (inputs) and ys (outputs)\n",
        "xs = np.array([-1.0, 0.0, 1.0, 2.0, 3.0, 4.0], dtype=float)\n",
        "ys = np.array([-3.0, -1.0, 1.0, 3.0, 5.0, 7.0], dtype=float)"
      ],
      "metadata": {
        "id": "A_0LkIMpqjgV"
      },
      "execution_count": null,
      "outputs": []
    },
    {
      "cell_type": "code",
      "source": [
        "SHAPE = [1]\n",
        "LOSS = 'mean_squared_error'\n",
        "\n",
        "# Define your model type\n",
        "model = Sequential([Dense(units=1, input_shape=SHAPE)])\n",
        "\n",
        "# Compile your model with choice of optimizer and loss function\n",
        "model.compile(optimizer='sgd', loss=LOSS)"
      ],
      "metadata": {
        "id": "KJeK61BQqtAr"
      },
      "execution_count": null,
      "outputs": []
    },
    {
      "cell_type": "code",
      "source": [
        "EPOCH_NUMBERS=[1,25,50,150,300] # Update me to see other Epochs\n",
        "plt.plot(xs,ys,label = \"Ys\")\n",
        "for EPOCH in EPOCH_NUMBERS:\n",
        "    plt.plot(xs,predictions[EPOCH-1],label = \"Epoch = \" + str(EPOCH))\n",
        "plt.legend()\n",
        "plt.show()"
      ],
      "metadata": {
        "id": "6BqOV7tzrwL8"
      },
      "execution_count": null,
      "outputs": []
    }
  ]
}